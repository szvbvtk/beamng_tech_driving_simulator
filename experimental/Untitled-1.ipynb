{
 "cells": [
  {
   "cell_type": "code",
   "execution_count": 3,
   "metadata": {},
   "outputs": [
    {
     "data": {
      "text/plain": [
       "<beamngpy.beamng.beamng.BeamNGpy at 0x1fa9fef4990>"
      ]
     },
     "execution_count": 3,
     "metadata": {},
     "output_type": "execute_result"
    }
   ],
   "source": [
    "from beamngpy import BeamNGpy, Scenario, Vehicle\n",
    "\n",
    "\n",
    "beamng = BeamNGpy(\n",
    "    \"localhost\",\n",
    "    64256,\n",
    "    home=\"D:\\BeamNG.tech\\BeamNG.tech.v0.31.2.0\",\n",
    "    user=\"D:\\BeamNG.tech\\BeamNG.tech.v0.31.2.0\\Bin64\",\n",
    ")\n",
    "beamng.open()"
   ]
  },
  {
   "cell_type": "code",
   "execution_count": 4,
   "metadata": {},
   "outputs": [],
   "source": [
    "scenario = Scenario(\"pejas_coast\", \"Mountain Race\")\n",
    "vehicle = Vehicle(\"ego_vehicle\", model=\"etk800\", license=\"PEJAS\")\n",
    "# Add it to our scenario at this position and rotation\n",
    "scenario.add_vehicle(\n",
    "    vehicle, pos=(-717, 101, 118), rot_quat=(0, 0, 0.3826834, 0.9238795)\n",
    ")\n",
    "# Place files defining our scenario for the simulator to read\n",
    "scenario.make(beamng)\n",
    "# 010.734|I|GELua.tech_techCore.TechGE|Accepted new client: 127.0.0.1/64189\n",
    "\n",
    "# Load and start our scenario\n",
    "beamng.scenario.load(scenario)\n",
    "beamng.scenario.start()"
   ]
  },
  {
   "cell_type": "code",
   "execution_count": null,
   "metadata": {},
   "outputs": [],
   "source": [
    "vehicle.ai.set_mode(\"traffic\")"
   ]
  }
 ],
 "metadata": {
  "kernelspec": {
   "display_name": "Python 3",
   "language": "python",
   "name": "python3"
  },
  "language_info": {
   "codemirror_mode": {
    "name": "ipython",
    "version": 3
   },
   "file_extension": ".py",
   "mimetype": "text/x-python",
   "name": "python",
   "nbconvert_exporter": "python",
   "pygments_lexer": "ipython3",
   "version": "3.11.4"
  }
 },
 "nbformat": 4,
 "nbformat_minor": 2
}
